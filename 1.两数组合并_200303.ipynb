{
 "cells": [
  {
   "cell_type": "markdown",
   "metadata": {},
   "source": [
    "### 题目说明\n",
    "给定两个排序后的数组 A 和 B，其中 A 的末端有足够的缓冲空间容纳 B。 编写一个方法，将 B 合并入 A 并排序。\n",
    "\n",
    "初始化 A 和 B 的元素数量分别为 m 和 n。  \n",
    "[题目链接](https://leetcode-cn.com/problems/sorted-merge-lcci)"
   ]
  },
  {
   "cell_type": "markdown",
   "metadata": {},
   "source": [
    "### 解题思路\n",
    "\n",
    "#### 主要思路：  \n",
    "有序数组，比较A,B末尾的数字，较大的放入A末尾的空间。  \n",
    "对于空间是否足够的问题，考虑两个极端：  \n",
    "  1> 若A全部比B大，则A放至A末尾时，看作A整体后移，则A前面有足够空间放B。  \n",
    "  2> 若B全部比A大，则B全部放于A之后。  \n",
    "#### 时间复杂度：  \n",
    "只有一个for循环，长度为k = m+n，因此时间复杂度为O(k)  \n",
    "#### 主要注意事项：  \n",
    "m和n的取值必须要在比大小之前判断，当值为0时，说明该数组已经全部排完，因此需要将另一数组的指针前移。  "
   ]
  },
  {
   "cell_type": "code",
   "execution_count": 26,
   "metadata": {},
   "outputs": [],
   "source": [
    "A = [1,6,7,0,0,0,0]\n",
    "B = [1,2,4,5]\n",
    "m = 3\n",
    "n = 4"
   ]
  },
  {
   "cell_type": "code",
   "execution_count": 27,
   "metadata": {},
   "outputs": [
    {
     "name": "stdout",
     "output_type": "stream",
     "text": [
      "[1, 6, 7, 0, 0, 0, 7] [1, 2, 4, 5]\n",
      "[1, 6, 7, 0, 0, 6, 7] [1, 2, 4, 5]\n",
      "[1, 6, 7, 0, 5, 6, 7] [1, 2, 4, 5]\n",
      "[1, 6, 7, 4, 5, 6, 7] [1, 2, 4, 5]\n",
      "[1, 6, 2, 4, 5, 6, 7] [1, 2, 4, 5]\n",
      "[1, 1, 2, 4, 5, 6, 7] [1, 2, 4, 5]\n",
      "[1, 1, 2, 4, 5, 6, 7] [1, 2, 4, 5]\n"
     ]
    }
   ],
   "source": [
    "k = m+n\n",
    "for i in range(0,k):\n",
    "    if m <= 0:\n",
    "        n -= 1\n",
    "        max_num = B[n]\n",
    "    elif n <= 0:\n",
    "        m -= 1\n",
    "        max_num = A[m]\n",
    "    elif A[m-1]>=B[n-1]:\n",
    "        m -= 1\n",
    "        max_num = A[m]\n",
    "    else:\n",
    "        n -= 1\n",
    "        max_num = B[n]\n",
    "    A[k-1-i] = max_num\n",
    "    print(A,B)"
   ]
  },
  {
   "cell_type": "code",
   "execution_count": null,
   "metadata": {},
   "outputs": [],
   "source": []
  },
  {
   "cell_type": "code",
   "execution_count": null,
   "metadata": {},
   "outputs": [],
   "source": []
  }
 ],
 "metadata": {
  "kernelspec": {
   "display_name": "Python 3",
   "language": "python",
   "name": "python3"
  },
  "language_info": {
   "codemirror_mode": {
    "name": "ipython",
    "version": 3
   },
   "file_extension": ".py",
   "mimetype": "text/x-python",
   "name": "python",
   "nbconvert_exporter": "python",
   "pygments_lexer": "ipython3",
   "version": "3.7.2"
  }
 },
 "nbformat": 4,
 "nbformat_minor": 4
}
