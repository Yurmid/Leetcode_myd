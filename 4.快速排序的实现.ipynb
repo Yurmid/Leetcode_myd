{
 "cells": [
  {
   "cell_type": "markdown",
   "metadata": {},
   "source": [
    "### 快速排序实现"
   ]
  },
  {
   "cell_type": "code",
   "execution_count": 37,
   "metadata": {},
   "outputs": [],
   "source": [
    "def partition(a,p,r):\n",
    "    i = p-1\n",
    "    x = a[r]\n",
    "    for j in range(p,r):\n",
    "        if a[j] <= x:\n",
    "            i += 1\n",
    "            k = a[i]\n",
    "            a[i] = a[j]\n",
    "            a[j] = k\n",
    "    k = a[i+1]\n",
    "    a[i+1] = a[r]\n",
    "    a[r] = k\n",
    "    print(a)\n",
    "    return i+1"
   ]
  },
  {
   "cell_type": "code",
   "execution_count": 38,
   "metadata": {},
   "outputs": [
    {
     "name": "stdout",
     "output_type": "stream",
     "text": [
      "[23, 23, 23, 45, 34, 33, 34, 34]\n"
     ]
    },
    {
     "data": {
      "text/plain": [
       "2"
      ]
     },
     "execution_count": 38,
     "metadata": {},
     "output_type": "execute_result"
    }
   ],
   "source": [
    "a = [34,33,34,45,23,23,34,23]\n",
    "partition(a,0,len(a)-1)"
   ]
  },
  {
   "cell_type": "code",
   "execution_count": 39,
   "metadata": {},
   "outputs": [
    {
     "data": {
      "text/plain": [
       "[23, 23, 23, 45, 34, 33, 34, 34]"
      ]
     },
     "execution_count": 39,
     "metadata": {},
     "output_type": "execute_result"
    }
   ],
   "source": [
    "a"
   ]
  },
  {
   "cell_type": "code",
   "execution_count": 40,
   "metadata": {},
   "outputs": [],
   "source": [
    "def quickSearch(li,p,r):\n",
    "    if p<r:\n",
    "        q = partition(li,p,r)\n",
    "        quickSearch(li,p,q-1)\n",
    "        quickSearch(li,q+1,r)"
   ]
  },
  {
   "cell_type": "code",
   "execution_count": 41,
   "metadata": {},
   "outputs": [
    {
     "name": "stdout",
     "output_type": "stream",
     "text": [
      "[23, 23, 23, 45, 34, 33, 34, 34]\n",
      "[23, 23, 23, 45, 34, 33, 34, 34]\n",
      "[23, 23, 23, 34, 33, 34, 34, 45]\n",
      "[23, 23, 23, 34, 33, 34, 34, 45]\n",
      "[23, 23, 23, 33, 34, 34, 34, 45]\n"
     ]
    },
    {
     "data": {
      "text/plain": [
       "[23, 23, 23, 33, 34, 34, 34, 45]"
      ]
     },
     "execution_count": 41,
     "metadata": {},
     "output_type": "execute_result"
    }
   ],
   "source": [
    "a = [34,33,34,45,23,23,34,23]\n",
    "quickSearch(a,0,len(a)-1)\n",
    "a"
   ]
  },
  {
   "cell_type": "code",
   "execution_count": null,
   "metadata": {},
   "outputs": [],
   "source": []
  }
 ],
 "metadata": {
  "kernelspec": {
   "display_name": "Python 3",
   "language": "python",
   "name": "python3"
  },
  "language_info": {
   "codemirror_mode": {
    "name": "ipython",
    "version": 3
   },
   "file_extension": ".py",
   "mimetype": "text/x-python",
   "name": "python",
   "nbconvert_exporter": "python",
   "pygments_lexer": "ipython3",
   "version": "3.7.2"
  }
 },
 "nbformat": 4,
 "nbformat_minor": 4
}
